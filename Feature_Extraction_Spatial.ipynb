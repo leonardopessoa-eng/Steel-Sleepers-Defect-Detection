{
 "cells": [
  {
   "cell_type": "code",
   "execution_count": 1,
   "metadata": {
    "executionInfo": {
     "elapsed": 708,
     "status": "ok",
     "timestamp": 1653689594891,
     "user": {
      "displayName": "Leonardo Pessoa",
      "userId": "09435304158593306288"
     },
     "user_tz": 180
    },
    "id": "EiTCiM3Cj5c0"
   },
   "outputs": [],
   "source": [
    "import pandas as pd\n",
    "import numpy as np\n",
    "import os"
   ]
  },
  {
   "cell_type": "code",
   "execution_count": 2,
   "metadata": {},
   "outputs": [],
   "source": [
    "# FUNÇÕES:\n",
    "def filtro_media_nao_causal(signal, janela = 128):\n",
    "    \n",
    "    M = int(janela/2)    \n",
    "    modified_signal = np.hstack(( np.zeros(M, dtype=float), signal, np.zeros(M, dtype=float) ))    \n",
    "    mean_signal = np.zeros(len(signal), dtype=float) # Inicialização do array\n",
    "    \n",
    "    for n in range(M, len(signal)+M):        \n",
    "        mean_signal[n-M] = modified_signal[(n-M):(n+M)].mean()\n",
    "        \n",
    "    filtered_signal = signal - mean_signal \n",
    "    return filtered_signal, mean_signal   \n"
   ]
  },
  {
   "cell_type": "code",
   "execution_count": 4,
   "metadata": {
    "id": "CmhmncL1lCCN"
   },
   "outputs": [],
   "source": [
    "os.chdir('root')\n",
    "file_names = os.listdir('root/Raw_Data/')\n",
    "\n",
    "for file_name in file_names:\n",
    "    df = pd.read_excel('Raw_Data/' + file_name, names = ['bitF', 'bitT', 'sup', 'supr', 'emp1', 'emp2', 'emp3', 'raio', 'nle', 'nld', 'ale', 'ald', 'tipo', 'kmi', 'kmf', 'linha', 'eh', 'superv', 'inspec', 'ano'])\n",
    "    \n",
    "    # FILTRO DOS DADOS:\n",
    "    filter_data = df.drop(['bitT', 'sup', 'emp1', 'emp2', 'raio'], axis = 1) # Eliminando informações irrelevantes\n",
    "    signals_used = filter_data.drop(['tipo', 'kmi', 'kmf', 'linha', 'eh', 'superv', 'ano'], axis = 1) # Eliminando informações descritivas\n",
    "    signals_used.columns = ['1', '2', '3', '4', '5', '6', '7', '8'] # Mantendo apenas os 7 sinais + número da inspeção\n",
    "        \n",
    "    # PROCESSAMENTOS DOS DADOS:\n",
    "    for n_inspec in range(3,7): # Inspeções 3, 4, 5 e 6\n",
    "        \n",
    "        for sinal in list(map(str, list(range(1,8)))):\n",
    "            \n",
    "            list_inspec = (signals_used['8'] == int(n_inspec)).to_numpy().nonzero()[0] # Criando índices de uma inspeção específica\n",
    "            signal_used = signals_used[sinal].to_numpy()\n",
    "            signal_used = signal_used[list_inspec] # Selecionando os dados referente à uma única inspeção\n",
    "            \n",
    "            # Inicialização de parâmetros ---------------------\n",
    "            energy = np.empty(shape=len(signal_used))\n",
    "            variance = np.empty(shape=len(signal_used))\n",
    "            amplitude_maxmin = np.empty(shape=len(signal_used))\n",
    "            zero_cross_rating = np.empty(shape=len(signal_used))            \n",
    "            if sinal == '1':\n",
    "                spatial_parameters = np.empty(shape=len(signal_used))\n",
    "            # --------------------------------------------------\n",
    "            \n",
    "            [filtered_signal, mean_signal] = filtro_media_nao_causal(signal_used, 128) \n",
    "            extended_signal = np.hstack(( np.zeros(128, dtype=float), signal_used, np.zeros(128, dtype=float) ))\n",
    "            extended_signal_no_media = np.hstack(( np.zeros(128, dtype=float), filtered_signal, np.zeros(128, dtype=float) ))\n",
    "\n",
    "            for n_desloc in range(0,len(signal_used)):\n",
    "                 \n",
    "                windown_selec0 = extended_signal[n_desloc:n_desloc+128];\n",
    "                windown_selec1 = extended_signal_no_media[n_desloc:n_desloc+128];\n",
    "\n",
    "                if sinal == '2': # Sinal de superelevação tem a média subtraída.\n",
    "                    windown_selec = windown_selec1;\n",
    "                else:\n",
    "                    windown_selec = windown_selec0;\n",
    "\n",
    "                # ENCONTRANDO OS PARÂMETROS:                    \n",
    "                # Energia do sinal dentro da janela selecionada\n",
    "                energy[n_desloc] = sum(windown_selec**2)\n",
    "                # Variância do sinal dentro da janela selecionada\n",
    "                variance[n_desloc] = np.var(windown_selec)\n",
    "                # Amplitude máxima do sinal dentro da janela\n",
    "                amplitude_maxmin[n_desloc] = max(windown_selec) - min(windown_selec)\n",
    "                # Taxa de Cruzamento por zeros dentro da janela selecionada\n",
    "\n",
    "            \n",
    "            # CONCATENAÇÃO DOS PARÂMETROS\n",
    "            spatial_parameters = np.vstack((spatial_parameters, energy, variance, amplitude_maxmin))\n",
    "          \n",
    "\n",
    "# Descomentar última linha para gerar as saídas transformadas #        \n",
    "        base_name = ['Base_E_' + file_name[4:10] + '_' + str(n_inspec) + '.npy']\n",
    "#         np.save(base_name, spatial_parameters)"
   ]
  }
 ],
 "metadata": {
  "colab": {
   "authorship_tag": "ABX9TyOaocG2iC+HJIvMRTbT+82+",
   "collapsed_sections": [],
   "mount_file_id": "1-gsP_Wl7ec3RdQ8zY6Ov6-eDyNOlsFkE",
   "name": "Projeto_Mestrado.ipynb",
   "provenance": []
  },
  "interpreter": {
   "hash": "a063a9d6d4095dba70f7d4a438ef288e94ffec589b0525f5b20de998ec61033a"
  },
  "kernelspec": {
   "display_name": "Python 3.9.12 ('base')",
   "language": "python",
   "name": "python3"
  },
  "language_info": {
   "codemirror_mode": {
    "name": "ipython",
    "version": 3
   },
   "file_extension": ".py",
   "mimetype": "text/x-python",
   "name": "python",
   "nbconvert_exporter": "python",
   "pygments_lexer": "ipython3",
   "version": "3.9.12"
  }
 },
 "nbformat": 4,
 "nbformat_minor": 1
}
